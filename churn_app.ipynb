{
  "nbformat": 4,
  "nbformat_minor": 0,
  "metadata": {
    "colab": {
      "provenance": [],
      "authorship_tag": "ABX9TyPM9JR95zeb5+Cf/SfNToZp",
      "include_colab_link": true
    },
    "kernelspec": {
      "name": "python3",
      "display_name": "Python 3"
    },
    "language_info": {
      "name": "python"
    }
  },
  "cells": [
    {
      "cell_type": "markdown",
      "metadata": {
        "id": "view-in-github",
        "colab_type": "text"
      },
      "source": [
        "<a href=\"https://colab.research.google.com/github/uceku95/Customer-churn-prediction/blob/main/churn_app.ipynb\" target=\"_parent\"><img src=\"https://colab.research.google.com/assets/colab-badge.svg\" alt=\"Open In Colab\"/></a>"
      ]
    },
    {
      "cell_type": "code",
      "execution_count": null,
      "metadata": {
        "colab": {
          "base_uri": "https://localhost:8080/"
        },
        "id": "ko0dOEuD4Axg",
        "outputId": "e91b904e-3fbe-49d2-a98d-b9c03abd0ae5"
      },
      "outputs": [
        {
          "output_type": "stream",
          "name": "stdout",
          "text": [
            " * Serving Flask app '__main__'\n",
            " * Debug mode: on\n"
          ]
        },
        {
          "output_type": "stream",
          "name": "stderr",
          "text": [
            "INFO:werkzeug:\u001b[31m\u001b[1mWARNING: This is a development server. Do not use it in a production deployment. Use a production WSGI server instead.\u001b[0m\n",
            " * Running on http://127.0.0.1:5000\n",
            "INFO:werkzeug:\u001b[33mPress CTRL+C to quit\u001b[0m\n",
            "INFO:werkzeug: * Restarting with stat\n"
          ]
        }
      ],
      "source": [
        "from flask import Flask, render_template, request\n",
        "import pickle\n",
        "from sklearn.preprocessing import StandardScaler, LabelEncoder\n",
        "\n",
        "app = Flask(__name__)\n",
        "\n",
        "# Load the trained model\n",
        "model_loaded = pickle.load(open('churn_predi_model.pkl', 'rb'))\n",
        "\n",
        "# Create a route to handle the index page\n",
        "@app.route('/', methods=['GET', 'POST'])\n",
        "def index():\n",
        "    prediction = None\n",
        "\n",
        "    if request.method == 'POST':\n",
        "        age = float(request.form['Age'])\n",
        "        gender = request.form['Gender']\n",
        "        location = request.form['Location']\n",
        "        subscription_length = int(request.form['Subscription_Length_Months'])\n",
        "        monthly_bill = float(request.form['Monthly_Bill'])\n",
        "        total_usage_gb = float(request.form['Total_Usage_GB'])\n",
        "\n",
        "        # Preprocess the features for prediction\n",
        "        label_encoder = LabelEncoder()\n",
        "        gender_encoded = label_encoder.fit_transform([gender])[0]\n",
        "        location_encoded = label_encoder.transform([location])[0]\n",
        "\n",
        "        features = [\n",
        "            age, gender_encoded, location_encoded, subscription_length,\n",
        "            monthly_bill, total_usage_gb\n",
        "        ]\n",
        "\n",
        "        # Preprocess the features similar to how you did in the training code\n",
        "        scaler = StandardScaler()\n",
        "        scaled_features = scaler.transform([features])\n",
        "\n",
        "        # Make prediction using the loaded model\n",
        "        churn_prediction = model_loaded.predict(scaled_features)\n",
        "\n",
        "        prediction = \"Churn\" if churn_prediction else \"No Churn\"\n",
        "\n",
        "    return render_template('churn_index.html', prediction=prediction)\n",
        "\n",
        "if __name__ == '__main__':\n",
        "    app.run(debug=True)\n",
        "\n"
      ]
    }
  ]
}